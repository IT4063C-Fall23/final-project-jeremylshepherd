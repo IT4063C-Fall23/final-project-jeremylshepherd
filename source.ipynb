{
 "cells": [
  {
   "attachments": {},
   "cell_type": "markdown",
   "metadata": {},
   "source": [
    "# Affect of Marijuana legalization on crime rates\n",
    "\n",
    "![Banner](./assets/banner.jpeg)"
   ]
  },
  {
   "attachments": {},
   "cell_type": "markdown",
   "metadata": {},
   "source": [
    "## Topic\n",
    "*What problem are you (or your stakeholder) trying to address?*\n",
    "\n",
    "Evaluate the impact of marijuana legalization on other areas of crime through comparative analysis to establish/refute correlation."
   ]
  },
  {
   "attachments": {},
   "cell_type": "markdown",
   "metadata": {},
   "source": [
    "## Project Question\n",
    "*What specific question are you seeking to answer with this project?*\n",
    "*This is not the same as the questions you ask to limit the scope of the project.*\n",
    "Does marijuana legalization lead to an increase in other areas of criminality?"
   ]
  },
  {
   "attachments": {},
   "cell_type": "markdown",
   "metadata": {},
   "source": [
    "## What would an answer look like?\n",
    "*What is your hypothesized answer to your question?*\n",
    "I suspect there will be some increases in other areas such as impaired driving. I do not have a strong inclination towards the degree it is impacted."
   ]
  },
  {
   "attachments": {},
   "cell_type": "markdown",
   "metadata": {},
   "source": [
    "## Data Sources\n",
    "*What 3 data sources have you identified for this project?*\n",
    "[Seattle Crime stats](https://www.kaggle.com/datasets/city-of-seattle/seattle-crime-stats)\n",
    "[Denver Crime stats](https://www.kaggle.com/datasets/paultimothymooney/denver-crime-data/data)\n",
    "[Kansas City Crime](https://www.kaggle.com/datasets/riteshkadakoti/crime-dataset-kansas)\n",
    "\n",
    "*How are you going to relate these datasets?*\n",
    "My working plan to compare 2 large cities where marijuana was first legalized (2012) for recreational use. I plan compare pre and post legalization crime trends. Then further compare/contrast that with a large city that had not (until this year) legalized recreational use. I am still ruminating on the mechanics of how to best do that."
   ]
  },
  {
   "attachments": {},
   "cell_type": "markdown",
   "metadata": {},
   "source": [
    "## Approach and Analysis\n",
    "*What is your approach to answering your project question?*\n",
    "*How will you use the identified data to answer your project question?*\n",
    "📝 <!-- Start Discussing the project here; you can add as many code cells as you need -->"
   ]
  },
  {
   "cell_type": "code",
   "execution_count": 1,
   "metadata": {},
   "outputs": [
    {
     "data": {
      "text/html": [
       "<div>\n",
       "<style scoped>\n",
       "    .dataframe tbody tr th:only-of-type {\n",
       "        vertical-align: middle;\n",
       "    }\n",
       "\n",
       "    .dataframe tbody tr th {\n",
       "        vertical-align: top;\n",
       "    }\n",
       "\n",
       "    .dataframe thead th {\n",
       "        text-align: right;\n",
       "    }\n",
       "</style>\n",
       "<table border=\"1\" class=\"dataframe\">\n",
       "  <thead>\n",
       "    <tr style=\"text-align: right;\">\n",
       "      <th></th>\n",
       "      <th>Police Beat</th>\n",
       "      <th>CRIME_TYPE</th>\n",
       "      <th>CRIME_DESCRIPTION</th>\n",
       "      <th>STAT_VALUE</th>\n",
       "      <th>REPORT_DATE</th>\n",
       "      <th>Sector</th>\n",
       "      <th>Precinct</th>\n",
       "      <th>Row_Value_ID</th>\n",
       "    </tr>\n",
       "  </thead>\n",
       "  <tbody>\n",
       "    <tr>\n",
       "      <th>0</th>\n",
       "      <td>R2</td>\n",
       "      <td>Rape</td>\n",
       "      <td>Rape</td>\n",
       "      <td>1</td>\n",
       "      <td>2014-04-30T00:00:00.000</td>\n",
       "      <td>R</td>\n",
       "      <td>SE</td>\n",
       "      <td>27092</td>\n",
       "    </tr>\n",
       "    <tr>\n",
       "      <th>1</th>\n",
       "      <td>K2</td>\n",
       "      <td>Assault</td>\n",
       "      <td>Assault</td>\n",
       "      <td>5</td>\n",
       "      <td>2014-04-30T00:00:00.000</td>\n",
       "      <td>K</td>\n",
       "      <td>W</td>\n",
       "      <td>26506</td>\n",
       "    </tr>\n",
       "    <tr>\n",
       "      <th>2</th>\n",
       "      <td>M2</td>\n",
       "      <td>Homicide</td>\n",
       "      <td>Homicide</td>\n",
       "      <td>1</td>\n",
       "      <td>2014-04-30T00:00:00.000</td>\n",
       "      <td>M</td>\n",
       "      <td>W</td>\n",
       "      <td>27567</td>\n",
       "    </tr>\n",
       "    <tr>\n",
       "      <th>3</th>\n",
       "      <td>C3</td>\n",
       "      <td>Robbery</td>\n",
       "      <td>Robbery</td>\n",
       "      <td>2</td>\n",
       "      <td>2014-04-30T00:00:00.000</td>\n",
       "      <td>C</td>\n",
       "      <td>E</td>\n",
       "      <td>26225</td>\n",
       "    </tr>\n",
       "    <tr>\n",
       "      <th>4</th>\n",
       "      <td>E2</td>\n",
       "      <td>Motor Vehicle Theft</td>\n",
       "      <td>Vehicle Theft is theft of a car, truck, motorc...</td>\n",
       "      <td>7</td>\n",
       "      <td>2014-04-30T00:00:00.000</td>\n",
       "      <td>E</td>\n",
       "      <td>E</td>\n",
       "      <td>26368</td>\n",
       "    </tr>\n",
       "  </tbody>\n",
       "</table>\n",
       "</div>"
      ],
      "text/plain": [
       "  Police Beat           CRIME_TYPE  \\\n",
       "0          R2                 Rape   \n",
       "1          K2              Assault   \n",
       "2          M2             Homicide   \n",
       "3          C3              Robbery   \n",
       "4          E2  Motor Vehicle Theft   \n",
       "\n",
       "                                   CRIME_DESCRIPTION  STAT_VALUE  \\\n",
       "0                                               Rape           1   \n",
       "1                                            Assault           5   \n",
       "2                                           Homicide           1   \n",
       "3                                            Robbery           2   \n",
       "4  Vehicle Theft is theft of a car, truck, motorc...           7   \n",
       "\n",
       "               REPORT_DATE Sector Precinct  Row_Value_ID  \n",
       "0  2014-04-30T00:00:00.000      R       SE         27092  \n",
       "1  2014-04-30T00:00:00.000      K        W         26506  \n",
       "2  2014-04-30T00:00:00.000      M        W         27567  \n",
       "3  2014-04-30T00:00:00.000      C        E         26225  \n",
       "4  2014-04-30T00:00:00.000      E        E         26368  "
      ]
     },
     "execution_count": 1,
     "metadata": {},
     "output_type": "execute_result"
    }
   ],
   "source": [
    "# Start your code here\n",
    "# Not sure what the expectation is for this block\n",
    "import numpy as np\n",
    "import pandas as pd\n",
    "from scipy.stats import trim_mean\n",
    "\n",
    "# Configure pandas to display 500 rows; otherwise it will truncate the output\n",
    "pd.set_option('display.max_rows', 500)\n",
    "\n",
    "# To plot pretty figures\n",
    "%matplotlib inline\n",
    "import matplotlib as mpl\n",
    "import matplotlib.pyplot as plt\n",
    "mpl.rc('axes', labelsize=14)\n",
    "mpl.rc('xtick', labelsize=12)\n",
    "mpl.rc('ytick', labelsize=12)\n",
    "plt.style.use(\"bmh\")\n",
    "\n",
    "denver_crime_df = pd.read_csv('data/denver_crime.csv')\n",
    "kc_crime_df = pd.read_csv('data/KCcrime2010To2018.csv', low_memory=False)\n",
    "seattle01_crime_df = pd.read_csv('data/seattle-crime-stats-by-1990-census-tract-1996-2007.csv')\n",
    "seattle02_crime_df = pd.read_csv('data/seattle-crime-stats-by-police-precinct-2008-present.csv')\n",
    "\n",
    "denver_crime_df.head()\n",
    "kc_crime_df.head()\n",
    "seattle01_crime_df.head()\n",
    "seattle02_crime_df.head()\n"
   ]
  },
  {
   "cell_type": "markdown",
   "metadata": {},
   "source": [
    "### Exploratory Data Analysis\n",
    "\n",
    "Data visualizations to evaluate the data in order to form conclusions about whether marijuana legalization had a tangential impact on other aspects of crime.\n",
    "I am paying particular attention to the 2-3 year period before and after legalization."
   ]
  },
  {
   "cell_type": "code",
   "execution_count": 3,
   "metadata": {},
   "outputs": [
    {
     "data": {
      "text/plain": [
       "(386865, 20)"
      ]
     },
     "metadata": {},
     "output_type": "display_data"
    },
    {
     "data": {
      "text/plain": [
       "(14268, 4)"
      ]
     },
     "metadata": {},
     "output_type": "display_data"
    },
    {
     "data": {
      "text/plain": [
       "(27125, 8)"
      ]
     },
     "metadata": {},
     "output_type": "display_data"
    },
    {
     "data": {
      "text/plain": [
       "(621281, 27)"
      ]
     },
     "metadata": {},
     "output_type": "display_data"
    }
   ],
   "source": [
    "# Get the shapes of the data\n",
    "display(denver_crime_df.shape)\n",
    "display(seattle01_crime_df.shape)\n",
    "display(seattle02_crime_df.shape)\n",
    "display(kc_crime_df.shape)"
   ]
  },
  {
   "cell_type": "code",
   "execution_count": 6,
   "metadata": {},
   "outputs": [
    {
     "name": "stdout",
     "output_type": "stream",
     "text": [
      "<class 'pandas.core.frame.DataFrame'>\n",
      "RangeIndex: 386865 entries, 0 to 386864\n",
      "Data columns (total 20 columns):\n",
      " #   Column                  Non-Null Count   Dtype  \n",
      "---  ------                  --------------   -----  \n",
      " 0   incident_id             386865 non-null  int64  \n",
      " 1   offense_id              386865 non-null  int64  \n",
      " 2   offense_code            386865 non-null  int64  \n",
      " 3   offense_code_extension  386865 non-null  int64  \n",
      " 4   offense_type_id         386865 non-null  object \n",
      " 5   offense_category_id     386865 non-null  object \n",
      " 6   first_occurrence_date   386865 non-null  object \n",
      " 7   last_occurrence_date    211309 non-null  object \n",
      " 8   reported_date           386865 non-null  object \n",
      " 9   incident_address        371362 non-null  object \n",
      " 10  geo_x                   371362 non-null  float64\n",
      " 11  geo_y                   371362 non-null  float64\n",
      " 12  geo_lon                 371096 non-null  float64\n",
      " 13  geo_lat                 371096 non-null  float64\n",
      " 14  district_id             386808 non-null  object \n",
      " 15  precinct_id             386865 non-null  int64  \n",
      " 16  neighborhood_id         386176 non-null  object \n",
      " 17  is_crime                386865 non-null  int64  \n",
      " 18  is_traffic              386865 non-null  int64  \n",
      " 19  victim_count            386865 non-null  int64  \n",
      "dtypes: float64(4), int64(8), object(8)\n",
      "memory usage: 59.0+ MB\n"
     ]
    },
    {
     "data": {
      "text/plain": [
       "None"
      ]
     },
     "metadata": {},
     "output_type": "display_data"
    },
    {
     "name": "stdout",
     "output_type": "stream",
     "text": [
      "<class 'pandas.core.frame.DataFrame'>\n",
      "RangeIndex: 14268 entries, 0 to 14267\n",
      "Data columns (total 4 columns):\n",
      " #   Column             Non-Null Count  Dtype  \n",
      "---  ------             --------------  -----  \n",
      " 0   Report_Year        14268 non-null  int64  \n",
      " 1   Census_Tract_1990  14236 non-null  float64\n",
      " 2   Crime_Type         14268 non-null  object \n",
      " 3   Report_Year_Total  14268 non-null  int64  \n",
      "dtypes: float64(1), int64(2), object(1)\n",
      "memory usage: 446.0+ KB\n"
     ]
    },
    {
     "data": {
      "text/plain": [
       "None"
      ]
     },
     "metadata": {},
     "output_type": "display_data"
    },
    {
     "name": "stdout",
     "output_type": "stream",
     "text": [
      "<class 'pandas.core.frame.DataFrame'>\n",
      "RangeIndex: 27125 entries, 0 to 27124\n",
      "Data columns (total 8 columns):\n",
      " #   Column             Non-Null Count  Dtype \n",
      "---  ------             --------------  ----- \n",
      " 0   Police Beat        27125 non-null  object\n",
      " 1   CRIME_TYPE         27125 non-null  object\n",
      " 2   CRIME_DESCRIPTION  27125 non-null  object\n",
      " 3   STAT_VALUE         27125 non-null  int64 \n",
      " 4   REPORT_DATE        27125 non-null  object\n",
      " 5   Sector             27125 non-null  object\n",
      " 6   Precinct           27125 non-null  object\n",
      " 7   Row_Value_ID       27125 non-null  int64 \n",
      "dtypes: int64(2), object(6)\n",
      "memory usage: 1.7+ MB\n"
     ]
    },
    {
     "data": {
      "text/plain": [
       "None"
      ]
     },
     "metadata": {},
     "output_type": "display_data"
    },
    {
     "name": "stdout",
     "output_type": "stream",
     "text": [
      "<class 'pandas.core.frame.DataFrame'>\n",
      "RangeIndex: 621281 entries, 0 to 621280\n",
      "Data columns (total 27 columns):\n",
      " #   Column                Non-Null Count   Dtype \n",
      "---  ------                --------------   ----- \n",
      " 0   140092859             621281 non-null  int64 \n",
      " 1   2014                  621281 non-null  int64 \n",
      " 2   12                    621281 non-null  int64 \n",
      " 3   28                    621281 non-null  int64 \n",
      " 4   19                    621281 non-null  int64 \n",
      " 5   36                    621281 non-null  int64 \n",
      " 6   2014.1                621281 non-null  int64 \n",
      " 7   12.1                  621281 non-null  int64 \n",
      " 8   22                    621281 non-null  int64 \n",
      " 9   1                     621281 non-null  int64 \n",
      " 10  0                     621281 non-null  int64 \n",
      " 11  670                   621281 non-null  int64 \n",
      " 12  23D                   621281 non-null  object\n",
      " 13  Stealing from Buildi  621281 non-null  object\n",
      " 14  331                   621281 non-null  object\n",
      " 15  3300  E 30 ST         621281 non-null  object\n",
      " 16  KANSAS CITY           621281 non-null  object\n",
      " 17  64127                 621281 non-null  int64 \n",
      " 18  PJ2499                621281 non-null  object\n",
      " 19  EPD                   621281 non-null  object\n",
      " 20  U                     621281 non-null  object\n",
      " 21  1.1                   621281 non-null  int64 \n",
      " 22  VIC                   621281 non-null  object\n",
      " 23  B                     621281 non-null  object\n",
      " 24  M                     621281 non-null  object\n",
      " 25  45                    621281 non-null  int64 \n",
      " 26  N                     621281 non-null  object\n",
      "dtypes: int64(15), object(12)\n",
      "memory usage: 128.0+ MB\n"
     ]
    },
    {
     "data": {
      "text/plain": [
       "None"
      ]
     },
     "metadata": {},
     "output_type": "display_data"
    }
   ],
   "source": [
    "# Look at the columns and compare the presentation of the data\n",
    "display(denver_crime_df.info())\n",
    "display(seattle01_crime_df.info())\n",
    "display(seattle02_crime_df.info())\n",
    "display(kc_crime_df.info())"
   ]
  },
  {
   "cell_type": "markdown",
   "metadata": {},
   "source": [
    "### Intitial thoughts\n",
    "The data from Seattle 01 and Kansas City do not appear to provide much in the way of usable data. Denver and Seattle 02 show some promise. I will need to try to find another comparison city for evaluation against the cities with legalized marijuana."
   ]
  },
  {
   "cell_type": "code",
   "execution_count": 11,
   "metadata": {},
   "outputs": [
    {
     "data": {
      "text/plain": [
       "0"
      ]
     },
     "execution_count": 11,
     "metadata": {},
     "output_type": "execute_result"
    }
   ],
   "source": [
    "# Check for duplicated records for Denver\n",
    "denver_crime_df.duplicated().sum()\n"
   ]
  },
  {
   "cell_type": "code",
   "execution_count": 12,
   "metadata": {},
   "outputs": [
    {
     "data": {
      "text/plain": [
       "4"
      ]
     },
     "execution_count": 12,
     "metadata": {},
     "output_type": "execute_result"
    }
   ],
   "source": [
    "# Check for duplicated records for Seattle\n",
    "seattle02_crime_df.duplicated().sum()"
   ]
  },
  {
   "cell_type": "code",
   "execution_count": 14,
   "metadata": {},
   "outputs": [
    {
     "data": {
      "text/plain": [
       "(27125, 8)"
      ]
     },
     "metadata": {},
     "output_type": "display_data"
    },
    {
     "data": {
      "text/plain": [
       "(27121, 8)"
      ]
     },
     "metadata": {},
     "output_type": "display_data"
    }
   ],
   "source": [
    "# Drop duplicates from Seattle and rename\n",
    "display(seattle02_crime_df.shape)\n",
    "seattle_crime_df = seattle02_crime_df.drop_duplicates()\n",
    "display(seattle_crime_df.shape)"
   ]
  },
  {
   "cell_type": "code",
   "execution_count": 15,
   "metadata": {},
   "outputs": [
    {
     "data": {
      "text/plain": [
       "incident_id                    0\n",
       "offense_id                     0\n",
       "offense_code                   0\n",
       "offense_code_extension         0\n",
       "offense_type_id                0\n",
       "offense_category_id            0\n",
       "first_occurrence_date          0\n",
       "last_occurrence_date      175556\n",
       "reported_date                  0\n",
       "incident_address           15503\n",
       "geo_x                      15503\n",
       "geo_y                      15503\n",
       "geo_lon                    15769\n",
       "geo_lat                    15769\n",
       "district_id                   57\n",
       "precinct_id                    0\n",
       "neighborhood_id              689\n",
       "is_crime                       0\n",
       "is_traffic                     0\n",
       "victim_count                   0\n",
       "dtype: int64"
      ]
     },
     "metadata": {},
     "output_type": "display_data"
    },
    {
     "data": {
      "text/plain": [
       "Police Beat          0\n",
       "CRIME_TYPE           0\n",
       "CRIME_DESCRIPTION    0\n",
       "STAT_VALUE           0\n",
       "REPORT_DATE          0\n",
       "Sector               0\n",
       "Precinct             0\n",
       "Row_Value_ID         0\n",
       "dtype: int64"
      ]
     },
     "metadata": {},
     "output_type": "display_data"
    }
   ],
   "source": [
    "# Check for missing values for Denver\n",
    "display(denver_crime_df.isna().sum())\n",
    "display(seattle_crime_df.isna().sum())"
   ]
  },
  {
   "cell_type": "markdown",
   "metadata": {},
   "source": [
    "### Data cleaned and ready for use\n",
    "The missing values are immaterial to the scope of analysis and can be safely ignored. The four duplicates from Seattle have been dropped."
   ]
  },
  {
   "attachments": {},
   "cell_type": "markdown",
   "metadata": {},
   "source": [
    "## Resources and References\n",
    "*What resources and references have you used for this project?*\n",
    "I used Kaggle to source the datasets"
   ]
  },
  {
   "cell_type": "code",
   "execution_count": 6,
   "metadata": {},
   "outputs": [
    {
     "name": "stdout",
     "output_type": "stream",
     "text": [
      "[NbConvertApp] Converting notebook source.ipynb to python\n",
      "[NbConvertApp] Writing 2701 bytes to source.py\n"
     ]
    }
   ],
   "source": [
    "# ⚠️ Make sure you run this cell at the end of your notebook before every submission!\n",
    "!jupyter nbconvert --to python source.ipynb"
   ]
  }
 ],
 "metadata": {
  "kernelspec": {
   "display_name": "Final-Project-Template-unx06iZ2",
   "language": "python",
   "name": "python3"
  },
  "language_info": {
   "codemirror_mode": {
    "name": "ipython",
    "version": 3
   },
   "file_extension": ".py",
   "mimetype": "text/x-python",
   "name": "python",
   "nbconvert_exporter": "python",
   "pygments_lexer": "ipython3",
   "version": "3.11.5"
  },
  "orig_nbformat": 4,
  "vscode": {
   "interpreter": {
    "hash": "8f59090b806211711d8ea6da25ee5b1ccb272a75a21b9536283520350d8dfda7"
   }
  }
 },
 "nbformat": 4,
 "nbformat_minor": 2
}
